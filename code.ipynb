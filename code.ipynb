{
 "cells": [
  {
   "cell_type": "code",
   "execution_count": 1,
   "metadata": {},
   "outputs": [],
   "source": [
    "import numpy as np\n",
    "\n",
    "def factors(x):\n",
    "    ct = 0\n",
    "    for i in range(2, np.int32((x/2)+1)):\n",
    "        if(x%i == 0):\n",
    "            ct = ct + 1; \n",
    "    return ct\n",
    "\n",
    "    \n",
    "def encrypt(num, public_key):\n",
    "    val = (num**public_key[0]) % public_key[1]\n",
    "    return val\n",
    "\n",
    "def decrypt(num, public_key):\n",
    "    fac = np.array([0, 0])\n",
    "    fac1 = 0\n",
    "    fac2 = 0\n",
    "    a = 0\n",
    "    j = 0\n",
    "    \n",
    "    for i in range(2, np.int32(public_key[1]/2)+1):\n",
    "        if(public_key[1]%i == 0):\n",
    "            if(factors(i) == 0):\n",
    "                if(j == 0):\n",
    "                    fac = fac + np.array([i,0])\n",
    "                else: \n",
    "                    fac = fac + np.array([0,i])\n",
    "            j = j + 1\n",
    "\n",
    "            \n",
    "    fac1 = fac[0]\n",
    "    fac2 = fac[1]\n",
    "    \n",
    "    for a in range(0, 10000):\n",
    "        if((public_key[0]*a) % ((fac1 - 1) * (fac2 - 1)) == 1):\n",
    "            break\n",
    "            \n",
    "    val = (num**a) % public_key[1]\n",
    "    return val"
   ]
  },
  {
   "cell_type": "code",
   "execution_count": 2,
   "metadata": {},
   "outputs": [],
   "source": [
    "def encryptMessage(sequence):\n",
    "    encryptedSequence = \"\"\n",
    "    encryptedChar = ''\n",
    "    ct = 0\n",
    "    \n",
    "    for i in range(0, len(sequence)):\n",
    "        char = sequence[i]\n",
    "        \n",
    "        if char == ' ':\n",
    "            ct = ct + 1\n",
    "            \n",
    "        encryptedChar = chr(encrypt(ord(char), [5, 20711]) + 1750 + (i//5))\n",
    "        encryptedSequence = encryptedSequence + encryptedChar\n",
    "        \n",
    "    return encryptedSequence\n",
    "\n",
    "def decryptMessage(sequence):\n",
    "    decryptedSequence = \"\"\n",
    "    decryptedChar = ''\n",
    "    ct = 0\n",
    "    \n",
    "    for i in range(0, len(sequence)):\n",
    "        char = sequence[i]\n",
    "        \n",
    "        if char == ' ':\n",
    "            ct = ct + 1\n",
    "            \n",
    "        decryptedChar = chr(decrypt(ord(char) - 1750 - (i//5), [5, 20711]))\n",
    "        decryptedSequence = decryptedSequence + decryptedChar\n",
    "        \n",
    "    return decryptedSequence"
   ]
  },
  {
   "cell_type": "code",
   "execution_count": 3,
   "metadata": {
    "scrolled": true
   },
   "outputs": [],
   "source": [
    "def encryptMessageStrong(sequence):\n",
    "    return encryptMessage(encryptMessage(encryptMessage(encryptMessage(encryptMessage(encryptMessage(encryptMessage(encryptMessage(encryptMessage(encryptMessage(sequence))))))))))\n",
    "\n",
    "def decryptMessageStrong(sequence):\n",
    "    return decryptMessage(decryptMessage(decryptMessage(decryptMessage(decryptMessage(decryptMessage(decryptMessage(decryptMessage(decryptMessage(decryptMessage(sequence))))))))))"
   ]
  },
  {
   "cell_type": "code",
   "execution_count": 20,
   "metadata": {},
   "outputs": [
    {
     "name": "stdout",
     "output_type": "stream",
     "text": [
      "䂣䳠៕䠻௷ᖭ߬ⰴ䳳ⰴ地㉪䡮߰\n"
     ]
    }
   ],
   "source": [
    "print(encryptMessageStrong('Tarun Paparaju'))"
   ]
  },
  {
   "cell_type": "code",
   "execution_count": 21,
   "metadata": {},
   "outputs": [
    {
     "name": "stdout",
     "output_type": "stream",
     "text": [
      "Tarun Paparaju\n"
     ]
    }
   ],
   "source": [
    "print(decryptMessageStrong('䂣䳠៕䠻௷ᖭ߬ⰴ䳳ⰴ地㉪䡮߰'))"
   ]
  },
  {
   "cell_type": "code",
   "execution_count": null,
   "metadata": {},
   "outputs": [],
   "source": []
  }
 ],
 "metadata": {
  "kernelspec": {
   "display_name": "Python 3",
   "language": "python",
   "name": "python3"
  },
  "language_info": {
   "codemirror_mode": {
    "name": "ipython",
    "version": 3
   },
   "file_extension": ".py",
   "mimetype": "text/x-python",
   "name": "python",
   "nbconvert_exporter": "python",
   "pygments_lexer": "ipython3",
   "version": "3.7.0"
  }
 },
 "nbformat": 4,
 "nbformat_minor": 2
}
